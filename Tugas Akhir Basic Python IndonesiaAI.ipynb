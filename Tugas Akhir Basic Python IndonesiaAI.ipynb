{
 "cells": [
  {
   "cell_type": "code",
   "execution_count": null,
   "id": "fd8cb604",
   "metadata": {},
   "outputs": [],
   "source": [
    "#import library\n",
    "import smtplib \n",
    "\n",
    "#setup email login\n",
    "gmail_user = input(str('Masukkan akun gmail: '))\n",
    "gmail_app_password = input(str('Masukkan password gmail: '))\n",
    "\n",
    "#setup penerima email\n",
    "print('=============================')\n",
    "\n",
    "#setup pengirim, penerima, judul dan isi email\n",
    "sent_from = gmail_user\n",
    "sent_to = receiver = open('penerima.txt','r')\n",
    "print(receiver.read())\n",
    "sent_subject = input(str('Masukkan subjek atau judul: '))\n",
    "sent_body = input(str('Masukkan pesan: '))\n",
    "\n",
    "email_text ='''\\\n",
    "form = %s\n",
    "To: %s\n",
    "Subject: %s\n",
    "\n",
    "%s\n",
    "'''%(sent_from,','.join(sent_to), sent_subject, sent_body)\n",
    "\n",
    "\n",
    "#sumber: youtube BankBen Sharing https://youtu.be/tZHCuA5Zug8"
   ]
  },
  {
   "cell_type": "code",
   "execution_count": null,
   "id": "e1d97a3c",
   "metadata": {},
   "outputs": [],
   "source": []
  }
 ],
 "metadata": {
  "kernelspec": {
   "display_name": "Python 3 (ipykernel)",
   "language": "python",
   "name": "python3"
  },
  "language_info": {
   "codemirror_mode": {
    "name": "ipython",
    "version": 3
   },
   "file_extension": ".py",
   "mimetype": "text/x-python",
   "name": "python",
   "nbconvert_exporter": "python",
   "pygments_lexer": "ipython3",
   "version": "3.9.6"
  }
 },
 "nbformat": 4,
 "nbformat_minor": 5
}
